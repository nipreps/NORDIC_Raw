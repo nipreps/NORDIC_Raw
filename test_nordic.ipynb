{
 "cells": [
  {
   "cell_type": "code",
   "execution_count": null,
   "id": "f8694291-b556-40d5-b409-7ee8a42a117a",
   "metadata": {
    "tags": []
   },
   "outputs": [],
   "source": [
    "from nordic import run_nordic"
   ]
  },
  {
   "cell_type": "code",
   "execution_count": null,
   "id": "5ad28547-a30a-4975-a195-e6c47a34b916",
   "metadata": {
    "tags": []
   },
   "outputs": [],
   "source": [
    "%%time\n",
    "stem = \"/Users/taylor/Documents/datasets/nordic-test/sub-02_ses-1_task-fracback_acq-MBME_echo-1\" \n",
    "run_nordic(\n",
    "    mag_file=f\"{stem}_part-mag_bold.nii.gz\",\n",
    "    pha_file=f\"{stem}_part-phase_bold.nii.gz\",\n",
    "    mag_norf_file=f\"{stem}_part-mag_noRF.nii.gz\",\n",
    "    pha_norf_file=f\"{stem}_part-phase_noRF.nii.gz\",\n",
    "    out_dir=\".\",\n",
    "    phase_filter_width=10,\n",
    "    temporal_phase=1,\n",
    "    algorithm=\"nordic\",\n",
    ")"
   ]
  },
  {
   "cell_type": "code",
   "execution_count": null,
   "id": "19452d84",
   "metadata": {},
   "outputs": [],
   "source": [
    "import numpy as np\n",
    "\n",
    "kernel = [14, 14, 1]\n",
    "n_vols = 13\n",
    "\n",
    "NVR_threshold = 0\n",
    "n_iters = 10\n",
    "for _ in range(n_iters):\n",
    "    _, S, _ = np.linalg.svd(np.random.normal(size=(np.prod(kernel), n_vols)))\n",
    "    print(S.shape)\n",
    "    NVR_threshold += S[0]\n",
    "\n",
    "NVR_threshold /= n_iters\n",
    "print(NVR_threshold)"
   ]
  },
  {
   "cell_type": "code",
   "execution_count": null,
   "id": "3b0bef49",
   "metadata": {},
   "outputs": [],
   "source": [
    "kernel_size_y = 14\n",
    "patch_average_sub = 2\n",
    "n_y = 112\n",
    "spacing = max(1, int(np.floor(kernel_size_y / patch_average_sub)))\n",
    "last = n_y - kernel_size_y + 1\n",
    "y_patches = list(np.arange(0, last, spacing, dtype=int))\n",
    "y_patches.append(n_y - kernel_size_y)\n",
    "y_patches = sorted(set(y_patches))\n",
    "print(y_patches)"
   ]
  },
  {
   "cell_type": "code",
   "execution_count": null,
   "id": "f9000522",
   "metadata": {},
   "outputs": [],
   "source": [
    "7.07106781e-01"
   ]
  },
  {
   "cell_type": "code",
   "execution_count": null,
   "id": "e1a2b5e2-c800-41e7-8c7f-69b493bb3834",
   "metadata": {},
   "outputs": [],
   "source": [
    "tmp1 = np.random.normal(size=(196, 13))\n",
    "U, S, V = np.linalg.svd(tmp1, full_matrices=False)\n",
    "print(U.shape)\n",
    "print(S.shape)\n",
    "print(V.shape)"
   ]
  },
  {
   "cell_type": "code",
   "execution_count": null,
   "id": "35d18214-a075-4297-9089-2494ebd8617f",
   "metadata": {
    "tags": []
   },
   "outputs": [],
   "source": [
    "tmp2 = np.dot(np.dot(U, np.diag(S)), V.T)\n",
    "print(tmp2.shape)\n",
    "tmp3 = np.dot(U, np.dot(np.diag(S), V.T))\n",
    "print(tmp3.shape)\n",
    "print(np.array_equal(tmp2, tmp2))"
   ]
  },
  {
   "cell_type": "code",
   "execution_count": null,
   "id": "6f0d14e5-15aa-4650-8d04-5e9fb6e502d1",
   "metadata": {
    "tags": []
   },
   "outputs": [],
   "source": [
    "np.allclose(tmp2, tmp1)"
   ]
  },
  {
   "cell_type": "code",
   "execution_count": null,
   "id": "d468666b-f3d3-4dff-a92f-ff03539be2c6",
   "metadata": {
    "tags": []
   },
   "outputs": [],
   "source": [
    "tmp2 - tmp1"
   ]
  },
  {
   "cell_type": "code",
   "execution_count": null,
   "id": "b2d9466d-a18e-4b03-a9a1-7d142928de1b",
   "metadata": {
    "tags": []
   },
   "outputs": [],
   "source": [
    "tmp1 = np.random.normal(size=(196, 13)) + (1j * np.random.normal(size=(196, 13)))\n",
    "U, S, V = np.linalg.svd(tmp1, full_matrices=False)\n",
    "tmp2 = np.dot(U * S, V)\n",
    "print(tmp1[0, 0])\n",
    "print(tmp2[0, 0])"
   ]
  },
  {
   "cell_type": "code",
   "execution_count": null,
   "id": "3469730a-dd82-405a-96a8-5ef43364a54d",
   "metadata": {},
   "outputs": [],
   "source": []
  }
 ],
 "metadata": {
  "kernelspec": {
   "display_name": "Python 3 (ipykernel)",
   "language": "python",
   "name": "python3"
  },
  "language_info": {
   "codemirror_mode": {
    "name": "ipython",
    "version": 3
   },
   "file_extension": ".py",
   "mimetype": "text/x-python",
   "name": "python",
   "nbconvert_exporter": "python",
   "pygments_lexer": "ipython3",
   "version": "3.9.17"
  }
 },
 "nbformat": 4,
 "nbformat_minor": 5
}
