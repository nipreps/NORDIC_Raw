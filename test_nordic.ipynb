{
 "cells": [
  {
   "cell_type": "code",
   "execution_count": 1,
   "id": "f8694291-b556-40d5-b409-7ee8a42a117a",
   "metadata": {
    "tags": []
   },
   "outputs": [],
   "source": [
    "from nordic import run_nordic"
   ]
  },
  {
   "cell_type": "markdown",
   "id": "ac3c0cef-1ebb-42c4-8116-7eef26ad49c0",
   "metadata": {
    "tags": []
   },
   "source": [
    "%%time\n",
    "```python\n",
    "stem = \"/Users/taylor/Documents/datasets/nordic-test/sub-02_ses-1_task-fracback_acq-MBME_echo-1\" \n",
    "run_nordic(\n",
    "    mag_file=f\"{stem}_part-mag_bold.nii.gz\",\n",
    "    pha_file=f\"{stem}_part-phase_bold.nii.gz\",\n",
    "    mag_norf_file=f\"{stem}_part-mag_noRF.nii.gz\",\n",
    "    pha_norf_file=f\"{stem}_part-phase_noRF.nii.gz\",\n",
    "    out_dir=\".\",\n",
    "    phase_filter_width=10,\n",
    "    temporal_phase=1,\n",
    "    algorithm=\"nordic\",\n",
    ")\n",
    "```"
   ]
  },
  {
   "cell_type": "code",
   "execution_count": 2,
   "id": "f1b1321d-c149-457d-a34b-07ef7fb8ffdd",
   "metadata": {},
   "outputs": [
    {
     "name": "stdout",
     "output_type": "stream",
     "text": [
      "Phase range:  -3.1415927 3.1415927\n",
      "Estimating slice-dependent phases ...\n",
      "Completed estimating slice-dependent phases\n",
      "Estimating g-factor ...\n"
     ]
    },
    {
     "name": "stderr",
     "output_type": "stream",
     "text": [
      "/Users/taylor/Documents/nipreps/NORDIC_Raw/nordic.py:581: RuntimeWarning: invalid value encountered in divide\n",
      "  reconstructed_k_space = reconstructed_k_space / total_patch_weights[..., None]\n",
      "/Users/taylor/Documents/nipreps/NORDIC_Raw/nordic.py:582: RuntimeWarning: invalid value encountered in divide\n",
      "  gfactor = np.sqrt(gfactor / total_patch_weights)\n",
      "/Users/taylor/Documents/nipreps/NORDIC_Raw/nordic.py:583: RuntimeWarning: invalid value encountered in divide\n",
      "  component_threshold = component_threshold / total_patch_weights\n",
      "/Users/taylor/Documents/nipreps/NORDIC_Raw/nordic.py:584: RuntimeWarning: invalid value encountered in divide\n",
      "  energy_removed = energy_removed / total_patch_weights\n",
      "/Users/taylor/Documents/nipreps/NORDIC_Raw/nordic.py:585: RuntimeWarning: invalid value encountered in divide\n",
      "  snr_weight = snr_weight / total_patch_weights\n"
     ]
    },
    {
     "name": "stdout",
     "output_type": "stream",
     "text": [
      "Completed estimating g-factor\n"
     ]
    },
    {
     "name": "stderr",
     "output_type": "stream",
     "text": [
      "/Users/taylor/Documents/nipreps/NORDIC_Raw/nordic.py:363: RuntimeWarning: invalid value encountered in divide\n",
      "  k_space = k_space / gfactor[..., None]\n"
     ]
    },
    {
     "name": "stdout",
     "output_type": "stream",
     "text": [
      "Starting NORDIC ...\n"
     ]
    },
    {
     "name": "stderr",
     "output_type": "stream",
     "text": [
      "/Users/taylor/Documents/nipreps/NORDIC_Raw/nordic.py:1302: RuntimeWarning: invalid value encountered in scalar divide\n",
      "  S[0] / S[max(0, first_removed_component - 2)]\n",
      "/Users/taylor/Documents/nipreps/NORDIC_Raw/nordic.py:784: RuntimeWarning: invalid value encountered in divide\n",
      "  reconstructed_k_space = reconstructed_k_space / total_patch_weights[..., None]\n",
      "/Users/taylor/Documents/nipreps/NORDIC_Raw/nordic.py:788: RuntimeWarning: invalid value encountered in divide\n",
      "  noise_magn = np.abs(np.sqrt(noise / total_patch_weights))\n",
      "/Users/taylor/Documents/nipreps/NORDIC_Raw/nordic.py:793: RuntimeWarning: invalid value encountered in divide\n",
      "  energy_removed = energy_removed / total_patch_weights\n",
      "/Users/taylor/Documents/nipreps/NORDIC_Raw/nordic.py:798: RuntimeWarning: invalid value encountered in divide\n",
      "  snr_weight = snr_weight / total_patch_weights\n",
      "/Users/taylor/Documents/nipreps/NORDIC_Raw/nordic.py:804: RuntimeWarning: invalid value encountered in divide\n",
      "  component_threshold = component_threshold / total_patch_weights\n"
     ]
    },
    {
     "name": "stdout",
     "output_type": "stream",
     "text": [
      "Completed NORDIC\n",
      "Done!\n",
      "CPU times: user 1min, sys: 8.66 s, total: 1min 9s\n",
      "Wall time: 49.2 s\n"
     ]
    }
   ],
   "source": [
    "%%time\n",
    "run_nordic(\n",
    "    mag_file=\"magn_unmerged_matlab.nii.gz\",\n",
    "    pha_file=\"phase_unmerged_matlab.nii.gz\",\n",
    "    mag_norf_file=\"magn_norf_matlab.nii.gz\",\n",
    "    pha_norf_file=\"phase_norf_matlab.nii.gz\",\n",
    "    out_dir=\".\",\n",
    "    phase_filter_width=10,\n",
    "    temporal_phase=1,\n",
    "    algorithm=\"nordic\",\n",
    "    debug=True,\n",
    ")"
   ]
  },
  {
   "cell_type": "code",
   "execution_count": null,
   "id": "e3e477c4",
   "metadata": {},
   "outputs": [],
   "source": [
    "%%time\n",
    "run_nordic(\n",
    "    mag_file=\"magn_unmerged_matlab.nii.gz\",\n",
    "    pha_file=\"phase_unmerged_matlab.nii.gz\",\n",
    "    out_dir=\".\",\n",
    "    phase_filter_width=10,\n",
    "    temporal_phase=1,\n",
    "    algorithm=\"nordic\",\n",
    ")"
   ]
  },
  {
   "cell_type": "code",
   "execution_count": null,
   "id": "6a42cf7d",
   "metadata": {},
   "outputs": [],
   "source": [
    "%%time\n",
    "run_nordic(\n",
    "    mag_file=\"magn_unmerged_matlab.nii.gz\",\n",
    "    mag_norf_file=\"magn_norf_matlab.nii.gz\",\n",
    "    out_dir=\".\",\n",
    "    phase_filter_width=10,\n",
    "    temporal_phase=1,\n",
    "    algorithm=\"nordic\",\n",
    ")"
   ]
  },
  {
   "cell_type": "code",
   "execution_count": null,
   "id": "cf7c3bdf",
   "metadata": {},
   "outputs": [],
   "source": [
    "%%time\n",
    "run_nordic(\n",
    "    mag_file=\"magn_unmerged_matlab.nii.gz\",\n",
    "    out_dir=\".\",\n",
    "    phase_filter_width=10,\n",
    "    temporal_phase=1,\n",
    "    algorithm=\"nordic\",\n",
    ")"
   ]
  },
  {
   "cell_type": "code",
   "execution_count": null,
   "id": "b2d9466d-a18e-4b03-a9a1-7d142928de1b",
   "metadata": {
    "tags": []
   },
   "outputs": [],
   "source": [
    "import nibabel as nb\n",
    "import numpy as np\n",
    "\n",
    "img1 = nb.load(\"DD_phase.nii.gz\")\n",
    "img2 = nb.load(\"DD_phase.nii\")\n",
    "arrpy = img1.get_fdata()\n",
    "arrma = img2.get_fdata()\n",
    "print(arrpy.shape)\n",
    "print(arrma.shape)\n",
    "print(np.array_equal(arrpy, arrma))\n",
    "print(np.corrcoef(arrpy.flatten(), arrma.flatten()))\n",
    "\n",
    "imgout = nb.Nifti1Image(arrma, img1.affine, img1.header)\n",
    "imgout.to_filename(\"DD_phase_matlab.nii.gz\")"
   ]
  },
  {
   "cell_type": "code",
   "execution_count": null,
   "id": "39f8fde3-a8e8-457c-bd84-17e8f322ed58",
   "metadata": {
    "tags": []
   },
   "outputs": [],
   "source": [
    "diff_img = nb.Nifti1Image(arrma - arrpy, img1.affine, img1.header)\n",
    "diff_img.to_filename(\"DD_phase_diff.nii.gz\")"
   ]
  },
  {
   "cell_type": "code",
   "execution_count": null,
   "id": "022cce43-2ba0-46c2-90c6-bbde02adb00d",
   "metadata": {
    "tags": []
   },
   "outputs": [],
   "source": [
    "img1 = nb.load(\"n_patch_runs_gfactor.nii.gz\")\n",
    "img2 = nb.load(\"n_patch_runs_gfactor.nii\")\n",
    "arrpy = img1.get_fdata()\n",
    "arrma = img2.get_fdata()\n",
    "print(np.array_equal(arrpy, arrma))\n",
    "print(np.corrcoef(arrpy.flatten(), arrma.flatten()))\n",
    "\n",
    "imgout = nb.Nifti1Image(arrma, img1.affine, img1.header)\n",
    "imgout.to_filename(\"n_patch_runs_gfactor_matlab.nii.gz\")"
   ]
  },
  {
   "cell_type": "code",
   "execution_count": null,
   "id": "f83994eb-0d5b-4e43-aea8-227e8705ec47",
   "metadata": {
    "tags": []
   },
   "outputs": [],
   "source": [
    "from scipy.io import loadmat"
   ]
  },
  {
   "cell_type": "code",
   "execution_count": null,
   "id": "66d6b723-a3a2-4613-820c-ec5b4325b4e5",
   "metadata": {
    "tags": []
   },
   "outputs": [],
   "source": [
    "struct = loadmat(\"data.mat\")\n",
    "mag_data = struct[\"I_M\"]\n",
    "pha_data = struct[\"I_P\"]\n",
    "print(np.max(mag_data))\n",
    "mag_img = nb.Nifti1Image(mag_data, img1.affine, img1.header)\n",
    "pha_img = nb.Nifti1Image(pha_data, img1.affine, img1.header)\n",
    "mag_img.to_filename(\"magn_merged_matlab.nii.gz\")\n",
    "pha_img.to_filename(\"phase_merged_matlab.nii.gz\")\n",
    "mag_data_img = mag_img.slicer[:, :, :, :10]\n",
    "mag_data_img.to_filename(\"magn_unmerged_matlab.nii.gz\")\n",
    "mag_norf_img = mag_img.slicer[:, :, :, 10:]\n",
    "mag_norf_img.to_filename(\"magn_norf_matlab.nii.gz\")\n",
    "\n",
    "pha_data_img = pha_img.slicer[:, :, :, :10]\n",
    "pha_data_img.to_filename(\"phase_unmerged_matlab.nii.gz\")\n",
    "pha_norf_img = pha_img.slicer[:, :, :, 10:]\n",
    "pha_norf_img.to_filename(\"phase_norf_matlab.nii.gz\")"
   ]
  }
 ],
 "metadata": {
  "kernelspec": {
   "display_name": "Python 3 (ipykernel)",
   "language": "python",
   "name": "python3"
  },
  "language_info": {
   "codemirror_mode": {
    "name": "ipython",
    "version": 3
   },
   "file_extension": ".py",
   "mimetype": "text/x-python",
   "name": "python",
   "nbconvert_exporter": "python",
   "pygments_lexer": "ipython3",
   "version": "3.9.17"
  }
 },
 "nbformat": 4,
 "nbformat_minor": 5
}
