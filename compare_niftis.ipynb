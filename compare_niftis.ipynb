{
 "cells": [
  {
   "cell_type": "code",
   "execution_count": 1,
   "id": "91180d18-903a-46f6-84ae-c12885b38ab0",
   "metadata": {
    "tags": []
   },
   "outputs": [],
   "source": [
    "import nibabel as nb\n",
    "import numpy as np"
   ]
  },
  {
   "cell_type": "code",
   "execution_count": 2,
   "id": "9f7aab3b-a343-4b7d-835f-1d8c7f5fd3dd",
   "metadata": {
    "tags": []
   },
   "outputs": [],
   "source": [
    "img_orig = nb.load(\n",
    "    \"/Users/taylor/Documents/datasets/nordic-test/sub-02_ses-1_task-fracback_acq-MBME_echo-1_part-mag_bold.nii.gz\"\n",
    ")\n",
    "img_matlab = nb.load(\"magn_unmerged_matlab.nii.gz\")"
   ]
  },
  {
   "cell_type": "code",
   "execution_count": 3,
   "id": "e0cc3f20-7035-486f-926b-a9361e0a0b91",
   "metadata": {
    "tags": []
   },
   "outputs": [
    {
     "data": {
      "text/plain": [
       "44895.0"
      ]
     },
     "execution_count": 3,
     "metadata": {},
     "output_type": "execute_result"
    }
   ],
   "source": [
    "np.max(img_orig.get_fdata())"
   ]
  },
  {
   "cell_type": "code",
   "execution_count": 4,
   "id": "c0164df9-c6e3-4e8c-8f81-fe2c5c69be9e",
   "metadata": {
    "tags": []
   },
   "outputs": [
    {
     "data": {
      "text/plain": [
       "65535.0"
      ]
     },
     "execution_count": 4,
     "metadata": {},
     "output_type": "execute_result"
    }
   ],
   "source": [
    "np.max(img_matlab.get_fdata())"
   ]
  },
  {
   "cell_type": "code",
   "execution_count": 5,
   "id": "9cc6ec64-806a-4984-b26f-58efe2ad2009",
   "metadata": {
    "tags": []
   },
   "outputs": [
    {
     "name": "stderr",
     "output_type": "stream",
     "text": [
      "/var/folders/ph/w3cbhj9n16s9bx4l7gq3dq6m0000gn/T/ipykernel_68829/2377314241.py:1: RuntimeWarning: invalid value encountered in divide\n",
      "  div_scalar = img_matlab.get_fdata() / img_orig.get_fdata()\n"
     ]
    }
   ],
   "source": [
    "div_scalar = img_matlab.get_fdata() / img_orig.get_fdata()\n",
    "sub_scalar = img_matlab.get_fdata() - img_orig.get_fdata()\n",
    "nb.Nifti1Image(div_scalar, img_orig.affine, img_orig.header).to_filename(\"div_scalar.nii.gz\")\n",
    "nb.Nifti1Image(sub_scalar, img_orig.affine, img_orig.header).to_filename(\"sub_scalar.nii.gz\")"
   ]
  },
  {
   "cell_type": "code",
   "execution_count": null,
   "id": "8dc2f6a6-f662-461e-95c8-71573e894408",
   "metadata": {},
   "outputs": [],
   "source": []
  }
 ],
 "metadata": {
  "kernelspec": {
   "display_name": "Python 3 (ipykernel)",
   "language": "python",
   "name": "python3"
  },
  "language_info": {
   "codemirror_mode": {
    "name": "ipython",
    "version": 3
   },
   "file_extension": ".py",
   "mimetype": "text/x-python",
   "name": "python",
   "nbconvert_exporter": "python",
   "pygments_lexer": "ipython3",
   "version": "3.9.17"
  }
 },
 "nbformat": 4,
 "nbformat_minor": 5
}
