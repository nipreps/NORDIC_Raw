{
 "cells": [
  {
   "cell_type": "code",
   "execution_count": 1,
   "id": "412e7a7b-aa81-4064-845b-a6a009a98b4c",
   "metadata": {
    "tags": []
   },
   "outputs": [],
   "source": [
    "%matplotlib inline\n",
    "import matplotlib.pyplot as plt\n",
    "import numpy as np"
   ]
  },
  {
   "cell_type": "code",
   "execution_count": 2,
   "id": "fef203ec-e330-468c-82f0-f0536af13735",
   "metadata": {
    "tags": []
   },
   "outputs": [],
   "source": [
    "alpha = 0.7\n",
    "kernel_size = [3, 3, 1]\n",
    "total_size = [10, 10, 10]\n",
    "data = np.ones(total_size, dtype=bool)\n",
    "n_patches_x = total_size[0] - kernel_size[0]\n",
    "\n",
    "artists = []\n",
    "for i_patch in range(n_patches_x):\n",
    "    patch_idx = np.arange(0, kernel_size[0], dtype=int) + i_patch\n",
    "\n",
    "    spacing = 1\n",
    "    last = total_size[1] - kernel_size[1] + 1\n",
    "    n2_range = list(np.arange(0, last, spacing, dtype=int))\n",
    "    for n2 in n2_range:\n",
    "        w2_slice = np.arange(kernel_size[1], dtype=int) + n2\n",
    "        spacing = 1\n",
    "        last = total_size[2] - kernel_size[2] + 1\n",
    "        n3_range = list(np.arange(0, last, spacing, dtype=int))\n",
    "        for n3 in n3_range:\n",
    "            w3_slice = np.arange(kernel_size[2], dtype=int) + n3\n",
    "            patch_idxx, w2_slicex, w3_slicex = np.ix_(patch_idx, w2_slice, w3_slice)\n",
    "\n",
    "            fillers = np.zeros(total_size, dtype=bool)\n",
    "            fillers[patch_idxx, w2_slicex, w3_slicex] = True\n",
    "\n",
    "            colors = np.empty(total_size, dtype=object)\n",
    "            colors[patch_idxx, w2_slicex, w3_slicex] = \"red\"\n",
    "\n",
    "            # Plot figure\n",
    "            fig = plt.figure(figsize=(8, 8))\n",
    "            ax = fig.add_subplot(111, projection=\"3d\")\n",
    "            ax.set_xlabel(\"X\")\n",
    "            ax.set_ylabel(\"Y\")\n",
    "            ax.set_zlabel(\"Z\")\n",
    "            ax.set_box_aspect(None, zoom=0.85)\n",
    "            ax.voxels(filled=fillers, facecolors=colors, edgecolors=\"k\")\n",
    "            fig.tight_layout()\n",
    "            fig.savefig(f\"figures/{i_patch}_{n2}_{n3}.png\")\n",
    "            plt.close()"
   ]
  },
  {
   "cell_type": "code",
   "execution_count": 3,
   "id": "b0a31b89-19f3-4c95-a23f-b31009c539ef",
   "metadata": {
    "tags": []
   },
   "outputs": [
    {
     "name": "stderr",
     "output_type": "stream",
     "text": [
      "/var/folders/ph/w3cbhj9n16s9bx4l7gq3dq6m0000gn/T/ipykernel_27097/4127377129.py:9: DeprecationWarning: Starting with ImageIO v3 the behavior of this function will switch to that of iio.v3.imread. To keep the current behavior (and make this warning disappear) use `import imageio.v2 as imageio` or call `imageio.v2.imread` directly.\n",
      "  image = imageio.imread(filename)\n"
     ]
    }
   ],
   "source": [
    "from glob import glob\n",
    "\n",
    "import imageio.v2 as imageio\n",
    "\n",
    "filenames = sorted(glob(\"figures/*.png\"))\n",
    "\n",
    "with imageio.get_writer(\"video.mp4\", mode=\"I\") as writer:\n",
    "    for filename in filenames:\n",
    "        image = imageio.imread(filename)\n",
    "        writer.append_data(image)"
   ]
  },
  {
   "cell_type": "code",
   "execution_count": null,
   "id": "34bc5aca-5153-44fd-9566-c9ee04d6cdac",
   "metadata": {},
   "outputs": [],
   "source": []
  }
 ],
 "metadata": {
  "kernelspec": {
   "display_name": "Python 3 (ipykernel)",
   "language": "python",
   "name": "python3"
  },
  "language_info": {
   "codemirror_mode": {
    "name": "ipython",
    "version": 3
   },
   "file_extension": ".py",
   "mimetype": "text/x-python",
   "name": "python",
   "nbconvert_exporter": "python",
   "pygments_lexer": "ipython3",
   "version": "3.9.17"
  }
 },
 "nbformat": 4,
 "nbformat_minor": 5
}
