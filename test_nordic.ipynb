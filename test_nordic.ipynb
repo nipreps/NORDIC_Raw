{
 "cells": [
  {
   "cell_type": "code",
   "execution_count": 1,
   "id": "f8694291-b556-40d5-b409-7ee8a42a117a",
   "metadata": {
    "tags": []
   },
   "outputs": [],
   "source": [
    "from nordic import run_nordic"
   ]
  },
  {
   "cell_type": "code",
   "execution_count": 2,
   "id": "5ad28547-a30a-4975-a195-e6c47a34b916",
   "metadata": {
    "tags": []
   },
   "outputs": [
    {
     "name": "stdout",
     "output_type": "stream",
     "text": [
      "Estimating slice-dependent phases ...\n",
      "Completed estimating slice-dependent phases\n",
      "Estimating g-factor ...\n"
     ]
    },
    {
     "name": "stderr",
     "output_type": "stream",
     "text": [
      "/Users/taylor/Documents/nipreps/NORDIC_Raw/nordic.py:987: RuntimeWarning: invalid value encountered in scalar divide\n",
      "  SNR_weight[:, w2_slicex, w3_slicex] += S[0] / S[max(0, t - 2)]\n",
      "/Users/taylor/Documents/nipreps/NORDIC_Raw/nordic.py:331: RuntimeWarning: invalid value encountered in divide\n",
      "  KSP_recon = KSP_recon / KSP_weight[..., None]\n",
      "/Users/taylor/Documents/nipreps/NORDIC_Raw/nordic.py:332: RuntimeWarning: invalid value encountered in divide\n",
      "  ARG[\"NOISE\"] = np.sqrt(NOISE / KSP_weight)\n",
      "/Users/taylor/Documents/nipreps/NORDIC_Raw/nordic.py:333: RuntimeWarning: invalid value encountered in divide\n",
      "  ARG[\"Component_threshold\"] = Component_threshold / KSP_weight\n",
      "/Users/taylor/Documents/nipreps/NORDIC_Raw/nordic.py:334: RuntimeWarning: invalid value encountered in divide\n",
      "  ARG[\"energy_removed\"] = energy_removed / KSP_weight\n",
      "/Users/taylor/Documents/nipreps/NORDIC_Raw/nordic.py:335: RuntimeWarning: invalid value encountered in divide\n",
      "  ARG[\"SNR_weight\"] = SNR_weight / KSP_weight\n"
     ]
    },
    {
     "name": "stdout",
     "output_type": "stream",
     "text": [
      "Completed estimating g-factor\n",
      "Starting NORDIC ...\n"
     ]
    },
    {
     "name": "stderr",
     "output_type": "stream",
     "text": [
      "/Users/taylor/Documents/nipreps/NORDIC_Raw/nordic.py:987: RuntimeWarning: invalid value encountered in scalar divide\n",
      "  SNR_weight[:, w2_slicex, w3_slicex] += S[0] / S[max(0, t - 2)]\n",
      "/Users/taylor/Documents/nipreps/NORDIC_Raw/nordic.py:987: RuntimeWarning: divide by zero encountered in scalar divide\n",
      "  SNR_weight[:, w2_slicex, w3_slicex] += S[0] / S[max(0, t - 2)]\n",
      "/Users/taylor/Documents/nipreps/NORDIC_Raw/nordic.py:518: RuntimeWarning: invalid value encountered in divide\n",
      "  KSP_recon = KSP_recon / KSP_weight[..., None]\n",
      "/Users/taylor/Documents/nipreps/NORDIC_Raw/nordic.py:519: RuntimeWarning: invalid value encountered in divide\n",
      "  ARG[\"NOISE\"] = np.sqrt(NOISE / KSP_weight)\n",
      "/Users/taylor/Documents/nipreps/NORDIC_Raw/nordic.py:520: RuntimeWarning: invalid value encountered in divide\n",
      "  ARG[\"Component_threshold\"] = Component_threshold / KSP_weight\n",
      "/Users/taylor/Documents/nipreps/NORDIC_Raw/nordic.py:521: RuntimeWarning: invalid value encountered in divide\n",
      "  ARG[\"energy_removed\"] = energy_removed / KSP_weight\n",
      "/Users/taylor/Documents/nipreps/NORDIC_Raw/nordic.py:522: RuntimeWarning: invalid value encountered in divide\n",
      "  ARG[\"SNR_weight\"] = SNR_weight / KSP_weight\n"
     ]
    },
    {
     "name": "stdout",
     "output_type": "stream",
     "text": [
      "Completed NORDIC\n",
      "Done!\n",
      "CPU times: user 8min 15s, sys: 1min 39s, total: 9min 54s\n",
      "Wall time: 3min 40s\n"
     ]
    }
   ],
   "source": [
    "%%time\n",
    "stem = \"/Users/taylor/Documents/datasets/nordic-test/sub-02_ses-1_task-fracback_acq-MBME_echo-1\" \n",
    "run_nordic(\n",
    "    mag_file=f\"{stem}_part-mag_bold.nii.gz\",\n",
    "    pha_file=f\"{stem}_part-phase_bold.nii.gz\",\n",
    "    mag_norf_file=f\"{stem}_part-mag_noRF.nii.gz\",\n",
    "    pha_norf_file=f\"{stem}_part-phase_noRF.nii.gz\",\n",
    "    out_dir=\".\",\n",
    "    phase_filter_width=10,\n",
    "    temporal_phase=1,\n",
    "    algorithm=\"nordic\",\n",
    ")"
   ]
  },
  {
   "cell_type": "code",
   "execution_count": 3,
   "id": "19452d84",
   "metadata": {},
   "outputs": [
    {
     "name": "stdout",
     "output_type": "stream",
     "text": [
      "(13,)\n",
      "(13,)\n",
      "(13,)\n",
      "(13,)\n",
      "(13,)\n",
      "(13,)\n",
      "(13,)\n",
      "(13,)\n",
      "(13,)\n",
      "(13,)\n",
      "17.031180173628705\n"
     ]
    }
   ],
   "source": [
    "import numpy as np\n",
    "\n",
    "kernel = [14, 14, 1]\n",
    "n_vols = 13\n",
    "\n",
    "NVR_threshold = 0\n",
    "n_iters = 10\n",
    "for _ in range(n_iters):\n",
    "    _, S, _ = np.linalg.svd(np.random.normal(size=(np.prod(kernel), n_vols)))\n",
    "    print(S.shape)\n",
    "    NVR_threshold += S[0]\n",
    "\n",
    "NVR_threshold /= n_iters\n",
    "print(NVR_threshold)"
   ]
  },
  {
   "cell_type": "code",
   "execution_count": 4,
   "id": "3b0bef49",
   "metadata": {},
   "outputs": [
    {
     "name": "stdout",
     "output_type": "stream",
     "text": [
      "[0, 7, 14, 21, 28, 35, 42, 49, 56, 63, 70, 77, 84, 91, 98]\n"
     ]
    }
   ],
   "source": [
    "kernel_size_y = 14\n",
    "patch_average_sub = 2\n",
    "n_y = 112\n",
    "spacing = max(1, int(np.floor(kernel_size_y / patch_average_sub)))\n",
    "last = n_y - kernel_size_y + 1\n",
    "y_patches = list(np.arange(0, last, spacing, dtype=int))\n",
    "y_patches.append(n_y - kernel_size_y)\n",
    "y_patches = sorted(set(y_patches))\n",
    "print(y_patches)"
   ]
  },
  {
   "cell_type": "code",
   "execution_count": 5,
   "id": "f9000522",
   "metadata": {},
   "outputs": [
    {
     "data": {
      "text/plain": [
       "0.707106781"
      ]
     },
     "execution_count": 5,
     "metadata": {},
     "output_type": "execute_result"
    }
   ],
   "source": [
    "7.07106781e-01"
   ]
  },
  {
   "cell_type": "code",
   "execution_count": 6,
   "id": "e1a2b5e2-c800-41e7-8c7f-69b493bb3834",
   "metadata": {},
   "outputs": [
    {
     "name": "stdout",
     "output_type": "stream",
     "text": [
      "(196, 13)\n",
      "(13,)\n",
      "(13, 13)\n"
     ]
    }
   ],
   "source": [
    "tmp1 = np.random.normal(size=(196, 13))\n",
    "U, S, V = np.linalg.svd(tmp1, full_matrices=False)\n",
    "print(U.shape)\n",
    "print(S.shape)\n",
    "print(V.shape)"
   ]
  },
  {
   "cell_type": "code",
   "execution_count": 7,
   "id": "35d18214-a075-4297-9089-2494ebd8617f",
   "metadata": {
    "tags": []
   },
   "outputs": [
    {
     "name": "stdout",
     "output_type": "stream",
     "text": [
      "(196, 13)\n",
      "(196, 13)\n",
      "True\n"
     ]
    }
   ],
   "source": [
    "tmp2 = np.dot(np.dot(U, np.diag(S)), V.T)\n",
    "print(tmp2.shape)\n",
    "tmp3 = np.dot(U, np.dot(np.diag(S), V.T))\n",
    "print(tmp3.shape)\n",
    "print(np.array_equal(tmp2, tmp2))"
   ]
  },
  {
   "cell_type": "code",
   "execution_count": 8,
   "id": "6f0d14e5-15aa-4650-8d04-5e9fb6e502d1",
   "metadata": {
    "tags": []
   },
   "outputs": [
    {
     "data": {
      "text/plain": [
       "False"
      ]
     },
     "execution_count": 8,
     "metadata": {},
     "output_type": "execute_result"
    }
   ],
   "source": [
    "np.allclose(tmp2, tmp1)"
   ]
  },
  {
   "cell_type": "code",
   "execution_count": 9,
   "id": "d468666b-f3d3-4dff-a92f-ff03539be2c6",
   "metadata": {
    "tags": []
   },
   "outputs": [
    {
     "data": {
      "text/plain": [
       "array([[-1.00951624,  0.45983219,  0.14333036, ..., -1.76212857,\n",
       "         0.84525956,  2.45228605],\n",
       "       [ 0.84701326, -2.11580417, -0.44261802, ...,  0.81724729,\n",
       "        -2.67953293, -1.02057334],\n",
       "       [ 0.76456747, -5.52917846, -2.0513174 , ...,  0.79429322,\n",
       "        -2.15263189, -1.89120327],\n",
       "       ...,\n",
       "       [-0.98264475, -1.24700467, -0.63934278, ..., -1.49213349,\n",
       "         0.80772893,  1.05423816],\n",
       "       [-1.59940695, -0.07927817, -3.85019953, ..., -0.83241803,\n",
       "         1.33059266,  0.93027114],\n",
       "       [-0.06964828,  1.25938195,  0.2211415 , ...,  2.36777867,\n",
       "         0.65276972, -1.96819889]])"
      ]
     },
     "execution_count": 9,
     "metadata": {},
     "output_type": "execute_result"
    }
   ],
   "source": [
    "tmp2 - tmp1"
   ]
  },
  {
   "cell_type": "code",
   "execution_count": 10,
   "id": "b2d9466d-a18e-4b03-a9a1-7d142928de1b",
   "metadata": {
    "tags": []
   },
   "outputs": [
    {
     "name": "stdout",
     "output_type": "stream",
     "text": [
      "(1.0880177596015503-1.002712527504502j)\n",
      "(1.0880177596015497-1.002712527504501j)\n"
     ]
    }
   ],
   "source": [
    "tmp1 = np.random.normal(size=(196, 13)) + (1j * np.random.normal(size=(196, 13)))\n",
    "U, S, V = np.linalg.svd(tmp1, full_matrices=False)\n",
    "tmp2 = np.dot(U * S, V)\n",
    "print(tmp1[0, 0])\n",
    "print(tmp2[0, 0])"
   ]
  },
  {
   "cell_type": "code",
   "execution_count": null,
   "id": "3469730a-dd82-405a-96a8-5ef43364a54d",
   "metadata": {},
   "outputs": [],
   "source": []
  }
 ],
 "metadata": {
  "kernelspec": {
   "display_name": "Python 3 (ipykernel)",
   "language": "python",
   "name": "python3"
  },
  "language_info": {
   "codemirror_mode": {
    "name": "ipython",
    "version": 3
   },
   "file_extension": ".py",
   "mimetype": "text/x-python",
   "name": "python",
   "nbconvert_exporter": "python",
   "pygments_lexer": "ipython3",
   "version": "3.9.17"
  }
 },
 "nbformat": 4,
 "nbformat_minor": 5
}
