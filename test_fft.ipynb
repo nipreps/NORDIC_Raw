{
 "cells": [
  {
   "cell_type": "code",
   "execution_count": 7,
   "id": "1f829c10-0342-4143-8c7c-c7a01abdbb27",
   "metadata": {
    "tags": []
   },
   "outputs": [],
   "source": [
    "import numpy as np\n",
    "from scipy.io import loadmat\n",
    "from scipy.signal.windows import tukey"
   ]
  },
  {
   "cell_type": "code",
   "execution_count": 5,
   "id": "aff4209a-747c-4cf3-9122-75db8ab0fe23",
   "metadata": {
    "tags": []
   },
   "outputs": [
    {
     "data": {
      "text/plain": [
       "(-0.5320114-1.0667014j)"
      ]
     },
     "execution_count": 5,
     "metadata": {},
     "output_type": "execute_result"
    }
   ],
   "source": [
    "struct = loadmat(\"temp.mat\")\n",
    "arr = struct[\"arr\"]\n",
    "arr[0, 0]"
   ]
  },
  {
   "cell_type": "code",
   "execution_count": 14,
   "id": "5d58a9ad-1540-48be-9090-965ee4d14b56",
   "metadata": {
    "tags": []
   },
   "outputs": [],
   "source": [
    "n_x, n_y = arr.shape\n",
    "ARG = {\"phase_filter_width\": 3}\n",
    "\n",
    "# Grab the 2D slice of the 4D array\n",
    "slice_data = arr.copy()\n",
    "\n",
    "# Apply 1D FFT to the 2D slice\n",
    "for k_dim in range(2):\n",
    "    slice_data = np.fft.ifftshift(\n",
    "        np.fft.ifft(\n",
    "            np.fft.ifftshift(slice_data, axes=[k_dim]),\n",
    "            n=None,\n",
    "            axis=k_dim,\n",
    "        ),\n",
    "        axes=[k_dim],\n",
    "    )\n",
    "\n",
    "# Apply Tukey window to the filtered 2D slice\n",
    "# TODO: Verify that this works.\n",
    "# tmp = bsxfun(@times,tmp,reshape(tukeywin(n_y,1).^phase_filter_width,[1 n_y]));\n",
    "tukey_window = tukey(n_y, 1) ** ARG[\"phase_filter_width\"]\n",
    "tukey_window_reshaped = tukey_window.reshape(1, n_y)\n",
    "slice_data = slice_data * tukey_window_reshaped\n",
    "\n",
    "# tmp = bsxfun(@times,tmp,reshape(tukeywin(n_x,1).^phase_filter_width,[n_x 1]));\n",
    "tukey_window = tukey(n_x, 1).T ** ARG[\"phase_filter_width\"]\n",
    "tukey_window_reshaped = tukey_window.reshape(n_x, 1)\n",
    "slice_data = slice_data * tukey_window_reshaped\n",
    "\n",
    "# Apply 1D IFFT to the filtered 2D slice and store in the 4D array\n",
    "for k_dim in range(2):\n",
    "    slice_data = np.fft.fftshift(\n",
    "        np.fft.fft(\n",
    "            np.fft.fftshift(slice_data, axes=[k_dim]),\n",
    "            n=None,\n",
    "            axis=k_dim,\n",
    "        ),\n",
    "        axes=[k_dim],\n",
    "    )"
   ]
  },
  {
   "cell_type": "code",
   "execution_count": 17,
   "id": "20319210-e52c-4040-922e-04d99001549b",
   "metadata": {
    "tags": []
   },
   "outputs": [
    {
     "data": {
      "text/plain": [
       "(-0.0281431665240858+0.08233896479817929j)"
      ]
     },
     "execution_count": 17,
     "metadata": {},
     "output_type": "execute_result"
    }
   ],
   "source": [
    "slice_data[4, 5]"
   ]
  },
  {
   "cell_type": "code",
   "execution_count": 21,
   "id": "ddb29b77-230c-4a8a-9d37-3b15f1ebfeba",
   "metadata": {
    "tags": []
   },
   "outputs": [
    {
     "data": {
      "text/plain": [
       "(-0.1939142-0.16348928j)"
      ]
     },
     "execution_count": 21,
     "metadata": {},
     "output_type": "execute_result"
    }
   ],
   "source": [
    "struct = loadmat(\"temp2.mat\")\n",
    "tmp = struct[\"tmp\"]\n",
    "tmp[0, 0]"
   ]
  },
  {
   "cell_type": "code",
   "execution_count": 22,
   "id": "d5d2891f-1f62-4e53-a2f4-eb1033f2f488",
   "metadata": {
    "tags": []
   },
   "outputs": [
    {
     "data": {
      "text/plain": [
       "True"
      ]
     },
     "execution_count": 22,
     "metadata": {},
     "output_type": "execute_result"
    }
   ],
   "source": [
    "np.allclose(tmp, slice_data)"
   ]
  },
  {
   "cell_type": "code",
   "execution_count": null,
   "id": "a2e20d00-fec0-405f-a236-795b3dc4ae4a",
   "metadata": {},
   "outputs": [],
   "source": []
  }
 ],
 "metadata": {
  "kernelspec": {
   "display_name": "Python 3 (ipykernel)",
   "language": "python",
   "name": "python3"
  },
  "language_info": {
   "codemirror_mode": {
    "name": "ipython",
    "version": 3
   },
   "file_extension": ".py",
   "mimetype": "text/x-python",
   "name": "python",
   "nbconvert_exporter": "python",
   "pygments_lexer": "ipython3",
   "version": "3.10.13"
  }
 },
 "nbformat": 4,
 "nbformat_minor": 5
}
