{
 "cells": [
  {
   "cell_type": "code",
   "execution_count": 1,
   "id": "f8694291-b556-40d5-b409-7ee8a42a117a",
   "metadata": {
    "tags": []
   },
   "outputs": [],
   "source": [
    "from nordic import run_nordic"
   ]
  },
  {
   "cell_type": "code",
   "execution_count": 2,
   "id": "5ad28547-a30a-4975-a195-e6c47a34b916",
   "metadata": {
    "tags": []
   },
   "outputs": [
    {
     "name": "stdout",
     "output_type": "stream",
     "text": [
      "Estimating slice-dependent phases ...\n",
      "Completed estimating slice-dependent phases\n",
      "Estimating g-factor ...\n"
     ]
    },
    {
     "name": "stderr",
     "output_type": "stream",
     "text": [
      "/Users/taylor/Documents/nipreps/NORDIC_Raw/nordic.py:1035: RuntimeWarning: invalid value encountered in scalar divide\n",
      "  SNR_weight[:, w2_slicex, w3_slicex] += S[0] / S[max(0, t - 2)]\n",
      "/Users/taylor/Documents/nipreps/NORDIC_Raw/nordic.py:332: RuntimeWarning: invalid value encountered in divide\n",
      "  KSP_recon = KSP_recon / total_patch_weights[..., None]\n",
      "/Users/taylor/Documents/nipreps/NORDIC_Raw/nordic.py:333: RuntimeWarning: invalid value encountered in divide\n",
      "  ARG[\"NOISE\"] = np.sqrt(NOISE / total_patch_weights)\n",
      "/Users/taylor/Documents/nipreps/NORDIC_Raw/nordic.py:334: RuntimeWarning: invalid value encountered in divide\n",
      "  ARG[\"Component_threshold\"] = Component_threshold / total_patch_weights\n",
      "/Users/taylor/Documents/nipreps/NORDIC_Raw/nordic.py:335: RuntimeWarning: invalid value encountered in divide\n",
      "  ARG[\"energy_removed\"] = energy_removed / total_patch_weights\n",
      "/Users/taylor/Documents/nipreps/NORDIC_Raw/nordic.py:336: RuntimeWarning: invalid value encountered in divide\n",
      "  ARG[\"SNR_weight\"] = SNR_weight / total_patch_weights\n"
     ]
    },
    {
     "name": "stdout",
     "output_type": "stream",
     "text": [
      "Completed estimating g-factor\n",
      "Starting NORDIC ...\n"
     ]
    },
    {
     "name": "stderr",
     "output_type": "stream",
     "text": [
      "/Users/taylor/Documents/nipreps/NORDIC_Raw/nordic.py:1035: RuntimeWarning: invalid value encountered in scalar divide\n",
      "  SNR_weight[:, w2_slicex, w3_slicex] += S[0] / S[max(0, t - 2)]\n",
      "/Users/taylor/Documents/nipreps/NORDIC_Raw/nordic.py:1035: RuntimeWarning: divide by zero encountered in scalar divide\n",
      "  SNR_weight[:, w2_slicex, w3_slicex] += S[0] / S[max(0, t - 2)]\n",
      "/Users/taylor/Documents/nipreps/NORDIC_Raw/nordic.py:521: RuntimeWarning: invalid value encountered in divide\n",
      "  KSP_recon = KSP_recon / total_patch_weights[..., None]\n",
      "/Users/taylor/Documents/nipreps/NORDIC_Raw/nordic.py:522: RuntimeWarning: invalid value encountered in divide\n",
      "  ARG[\"NOISE\"] = np.sqrt(NOISE / total_patch_weights)\n",
      "/Users/taylor/Documents/nipreps/NORDIC_Raw/nordic.py:523: RuntimeWarning: invalid value encountered in divide\n",
      "  ARG[\"Component_threshold\"] = Component_threshold / total_patch_weights\n",
      "/Users/taylor/Documents/nipreps/NORDIC_Raw/nordic.py:524: RuntimeWarning: invalid value encountered in divide\n",
      "  ARG[\"energy_removed\"] = energy_removed / total_patch_weights\n",
      "/Users/taylor/Documents/nipreps/NORDIC_Raw/nordic.py:525: RuntimeWarning: invalid value encountered in divide\n",
      "  ARG[\"SNR_weight\"] = SNR_weight / total_patch_weights\n"
     ]
    },
    {
     "name": "stdout",
     "output_type": "stream",
     "text": [
      "Completed NORDIC\n",
      "Done!\n",
      "CPU times: user 7min 43s, sys: 1min 58s, total: 9min 42s\n",
      "Wall time: 3min 55s\n"
     ]
    }
   ],
   "source": [
    "%%time\n",
    "stem = \"/Users/taylor/Documents/datasets/nordic-test/sub-02_ses-1_task-fracback_acq-MBME_echo-1\" \n",
    "run_nordic(\n",
    "    mag_file=f\"{stem}_part-mag_bold.nii.gz\",\n",
    "    pha_file=f\"{stem}_part-phase_bold.nii.gz\",\n",
    "    mag_norf_file=f\"{stem}_part-mag_noRF.nii.gz\",\n",
    "    pha_norf_file=f\"{stem}_part-phase_noRF.nii.gz\",\n",
    "    out_dir=\".\",\n",
    "    phase_filter_width=10,\n",
    "    temporal_phase=1,\n",
    "    algorithm=\"nordic\",\n",
    ")"
   ]
  },
  {
   "cell_type": "code",
   "execution_count": 3,
   "id": "19452d84",
   "metadata": {},
   "outputs": [
    {
     "name": "stdout",
     "output_type": "stream",
     "text": [
      "(13,)\n",
      "(13,)\n",
      "(13,)\n",
      "(13,)\n",
      "(13,)\n",
      "(13,)\n",
      "(13,)\n",
      "(13,)\n",
      "(13,)\n",
      "(13,)\n",
      "16.91686257328183\n"
     ]
    }
   ],
   "source": [
    "import numpy as np\n",
    "\n",
    "kernel = [14, 14, 1]\n",
    "n_vols = 13\n",
    "\n",
    "NVR_threshold = 0\n",
    "n_iters = 10\n",
    "for _ in range(n_iters):\n",
    "    _, S, _ = np.linalg.svd(np.random.normal(size=(np.prod(kernel), n_vols)))\n",
    "    print(S.shape)\n",
    "    NVR_threshold += S[0]\n",
    "\n",
    "NVR_threshold /= n_iters\n",
    "print(NVR_threshold)"
   ]
  },
  {
   "cell_type": "code",
   "execution_count": 4,
   "id": "3b0bef49",
   "metadata": {},
   "outputs": [
    {
     "name": "stdout",
     "output_type": "stream",
     "text": [
      "[0, 7, 14, 21, 28, 35, 42, 49, 56, 63, 70, 77, 84, 91, 98]\n"
     ]
    }
   ],
   "source": [
    "kernel_size_y = 14\n",
    "patch_average_sub = 2\n",
    "n_y = 112\n",
    "spacing = max(1, int(np.floor(kernel_size_y / patch_average_sub)))\n",
    "last = n_y - kernel_size_y + 1\n",
    "y_patches = list(np.arange(0, last, spacing, dtype=int))\n",
    "y_patches.append(n_y - kernel_size_y)\n",
    "y_patches = sorted(set(y_patches))\n",
    "print(y_patches)"
   ]
  },
  {
   "cell_type": "code",
   "execution_count": 5,
   "id": "f9000522",
   "metadata": {},
   "outputs": [
    {
     "data": {
      "text/plain": [
       "0.707106781"
      ]
     },
     "execution_count": 5,
     "metadata": {},
     "output_type": "execute_result"
    }
   ],
   "source": [
    "7.07106781e-01"
   ]
  },
  {
   "cell_type": "code",
   "execution_count": 6,
   "id": "e1a2b5e2-c800-41e7-8c7f-69b493bb3834",
   "metadata": {},
   "outputs": [
    {
     "name": "stdout",
     "output_type": "stream",
     "text": [
      "(196, 13)\n",
      "(13,)\n",
      "(13, 13)\n"
     ]
    }
   ],
   "source": [
    "tmp1 = np.random.normal(size=(196, 13))\n",
    "U, S, V = np.linalg.svd(tmp1, full_matrices=False)\n",
    "print(U.shape)\n",
    "print(S.shape)\n",
    "print(V.shape)"
   ]
  },
  {
   "cell_type": "code",
   "execution_count": 7,
   "id": "35d18214-a075-4297-9089-2494ebd8617f",
   "metadata": {
    "tags": []
   },
   "outputs": [
    {
     "name": "stdout",
     "output_type": "stream",
     "text": [
      "(196, 13)\n",
      "(196, 13)\n",
      "True\n"
     ]
    }
   ],
   "source": [
    "tmp2 = np.dot(np.dot(U, np.diag(S)), V.T)\n",
    "print(tmp2.shape)\n",
    "tmp3 = np.dot(U, np.dot(np.diag(S), V.T))\n",
    "print(tmp3.shape)\n",
    "print(np.array_equal(tmp2, tmp2))"
   ]
  },
  {
   "cell_type": "code",
   "execution_count": 8,
   "id": "6f0d14e5-15aa-4650-8d04-5e9fb6e502d1",
   "metadata": {
    "tags": []
   },
   "outputs": [
    {
     "data": {
      "text/plain": [
       "False"
      ]
     },
     "execution_count": 8,
     "metadata": {},
     "output_type": "execute_result"
    }
   ],
   "source": [
    "np.allclose(tmp2, tmp1)"
   ]
  },
  {
   "cell_type": "code",
   "execution_count": 9,
   "id": "d468666b-f3d3-4dff-a92f-ff03539be2c6",
   "metadata": {
    "tags": []
   },
   "outputs": [
    {
     "data": {
      "text/plain": [
       "array([[-0.17118142, -2.66588452,  2.89376117, ...,  0.43982348,\n",
       "        -0.25939832,  0.43477291],\n",
       "       [-0.98981884,  1.44164282, -0.91370884, ...,  2.9572806 ,\n",
       "         1.04351137, -1.02592627],\n",
       "       [ 0.43689764,  0.31321286, -0.0503433 , ...,  0.69274185,\n",
       "        -0.40769012, -1.32429595],\n",
       "       ...,\n",
       "       [ 1.12166905, -0.58816652,  0.61955981, ..., -1.16847207,\n",
       "         0.24222377, -1.12868611],\n",
       "       [-1.04608986,  0.97735538, -0.90961044, ...,  0.3612173 ,\n",
       "         1.29432194, -0.77149014],\n",
       "       [ 0.19866064, -2.19977567,  0.26017085, ...,  2.24209014,\n",
       "        -0.2022656 , -2.45921824]])"
      ]
     },
     "execution_count": 9,
     "metadata": {},
     "output_type": "execute_result"
    }
   ],
   "source": [
    "tmp2 - tmp1"
   ]
  },
  {
   "cell_type": "code",
   "execution_count": 10,
   "id": "b2d9466d-a18e-4b03-a9a1-7d142928de1b",
   "metadata": {
    "tags": []
   },
   "outputs": [
    {
     "name": "stdout",
     "output_type": "stream",
     "text": [
      "(-1.7767087855856187-1.296678506145052j)\n",
      "(-1.7767087855856185-1.2966785061450525j)\n"
     ]
    }
   ],
   "source": [
    "tmp1 = np.random.normal(size=(196, 13)) + (1j * np.random.normal(size=(196, 13)))\n",
    "U, S, V = np.linalg.svd(tmp1, full_matrices=False)\n",
    "tmp2 = np.dot(U * S, V)\n",
    "print(tmp1[0, 0])\n",
    "print(tmp2[0, 0])"
   ]
  },
  {
   "cell_type": "code",
   "execution_count": null,
   "id": "3469730a-dd82-405a-96a8-5ef43364a54d",
   "metadata": {},
   "outputs": [],
   "source": []
  }
 ],
 "metadata": {
  "kernelspec": {
   "display_name": "Python 3 (ipykernel)",
   "language": "python",
   "name": "python3"
  },
  "language_info": {
   "codemirror_mode": {
    "name": "ipython",
    "version": 3
   },
   "file_extension": ".py",
   "mimetype": "text/x-python",
   "name": "python",
   "nbconvert_exporter": "python",
   "pygments_lexer": "ipython3",
   "version": "3.9.17"
  }
 },
 "nbformat": 4,
 "nbformat_minor": 5
}
