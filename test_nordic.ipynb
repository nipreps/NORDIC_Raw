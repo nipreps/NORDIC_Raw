{
 "cells": [
  {
   "cell_type": "code",
   "execution_count": 1,
   "id": "f8694291-b556-40d5-b409-7ee8a42a117a",
   "metadata": {
    "tags": []
   },
   "outputs": [],
   "source": [
    "from nordic import run_nordic"
   ]
  },
  {
   "cell_type": "code",
   "execution_count": 2,
   "id": "5ad28547-a30a-4975-a195-e6c47a34b916",
   "metadata": {
    "tags": []
   },
   "outputs": [
    {
     "ename": "Exception",
     "evalue": "[-1.-0.00024286j -1.-0.00024262j -1.-0.00024238j ...  1.+0.00024346j\n  1.+0.00024359j  1.+0.00024377j]",
     "output_type": "error",
     "traceback": [
      "\u001b[0;31m---------------------------------------------------------------------------\u001b[0m",
      "\u001b[0;31mException\u001b[0m                                 Traceback (most recent call last)",
      "Cell \u001b[0;32mIn[2], line 2\u001b[0m\n\u001b[1;32m      1\u001b[0m stem \u001b[38;5;241m=\u001b[39m \u001b[38;5;124m\"\u001b[39m\u001b[38;5;124m/Users/taylor/Documents/datasets/nordic-test/sub-02_ses-1_task-fracback_acq-MBME_echo-1\u001b[39m\u001b[38;5;124m\"\u001b[39m \n\u001b[0;32m----> 2\u001b[0m \u001b[43mrun_nordic\u001b[49m\u001b[43m(\u001b[49m\n\u001b[1;32m      3\u001b[0m \u001b[43m    \u001b[49m\u001b[43mmag_file\u001b[49m\u001b[38;5;241;43m=\u001b[39;49m\u001b[38;5;124;43mf\u001b[39;49m\u001b[38;5;124;43m\"\u001b[39;49m\u001b[38;5;132;43;01m{\u001b[39;49;00m\u001b[43mstem\u001b[49m\u001b[38;5;132;43;01m}\u001b[39;49;00m\u001b[38;5;124;43m_part-mag_bold.nii.gz\u001b[39;49m\u001b[38;5;124;43m\"\u001b[39;49m\u001b[43m,\u001b[49m\n\u001b[1;32m      4\u001b[0m \u001b[43m    \u001b[49m\u001b[43mpha_file\u001b[49m\u001b[38;5;241;43m=\u001b[39;49m\u001b[38;5;124;43mf\u001b[39;49m\u001b[38;5;124;43m\"\u001b[39;49m\u001b[38;5;132;43;01m{\u001b[39;49;00m\u001b[43mstem\u001b[49m\u001b[38;5;132;43;01m}\u001b[39;49;00m\u001b[38;5;124;43m_part-phase_bold.nii.gz\u001b[39;49m\u001b[38;5;124;43m\"\u001b[39;49m\u001b[43m,\u001b[49m\n\u001b[1;32m      5\u001b[0m \u001b[43m    \u001b[49m\u001b[43mmag_norf_file\u001b[49m\u001b[38;5;241;43m=\u001b[39;49m\u001b[38;5;124;43mf\u001b[39;49m\u001b[38;5;124;43m\"\u001b[39;49m\u001b[38;5;132;43;01m{\u001b[39;49;00m\u001b[43mstem\u001b[49m\u001b[38;5;132;43;01m}\u001b[39;49;00m\u001b[38;5;124;43m_part-mag_noRF.nii.gz\u001b[39;49m\u001b[38;5;124;43m\"\u001b[39;49m\u001b[43m,\u001b[49m\n\u001b[1;32m      6\u001b[0m \u001b[43m    \u001b[49m\u001b[43mpha_norf_file\u001b[49m\u001b[38;5;241;43m=\u001b[39;49m\u001b[38;5;124;43mf\u001b[39;49m\u001b[38;5;124;43m\"\u001b[39;49m\u001b[38;5;132;43;01m{\u001b[39;49;00m\u001b[43mstem\u001b[49m\u001b[38;5;132;43;01m}\u001b[39;49;00m\u001b[38;5;124;43m_part-phase_noRF.nii.gz\u001b[39;49m\u001b[38;5;124;43m\"\u001b[39;49m\u001b[43m,\u001b[49m\n\u001b[1;32m      7\u001b[0m \u001b[43m    \u001b[49m\u001b[43mout_dir\u001b[49m\u001b[38;5;241;43m=\u001b[39;49m\u001b[38;5;124;43m\"\u001b[39;49m\u001b[38;5;124;43m.\u001b[39;49m\u001b[38;5;124;43m\"\u001b[39;49m\u001b[43m,\u001b[49m\n\u001b[1;32m      8\u001b[0m \u001b[43m    \u001b[49m\u001b[43mphase_filter_width\u001b[49m\u001b[38;5;241;43m=\u001b[39;49m\u001b[38;5;241;43m10\u001b[39;49m\u001b[43m,\u001b[49m\n\u001b[1;32m      9\u001b[0m \u001b[43m    \u001b[49m\u001b[43malgorithm\u001b[49m\u001b[38;5;241;43m=\u001b[39;49m\u001b[38;5;124;43m\"\u001b[39;49m\u001b[38;5;124;43mnordic\u001b[39;49m\u001b[38;5;124;43m\"\u001b[39;49m\u001b[43m,\u001b[49m\n\u001b[1;32m     10\u001b[0m \u001b[43m)\u001b[49m\n",
      "File \u001b[0;32m~/Documents/nipreps/NORDIC_Raw/nordic.py:230\u001b[0m, in \u001b[0;36mrun_nordic\u001b[0;34m(mag_file, pha_file, mag_norf_file, pha_norf_file, out_dir, factor_error, full_dynamic_range, temporal_phase, algorithm, kernel_size_gfactor, kernel_size_PCA, phase_slice_average_for_kspace_centering, phase_filter_width, NORDIC_patch_overlap, gfactor_patch_overlap, save_gfactor_map)\u001b[0m\n\u001b[1;32m    219\u001b[0m                 slice_data \u001b[38;5;241m=\u001b[39m np\u001b[38;5;241m.\u001b[39mfft\u001b[38;5;241m.\u001b[39mfftshift(\n\u001b[1;32m    220\u001b[0m                     np\u001b[38;5;241m.\u001b[39mfft\u001b[38;5;241m.\u001b[39mfft(\n\u001b[1;32m    221\u001b[0m                         np\u001b[38;5;241m.\u001b[39mfft\u001b[38;5;241m.\u001b[39mfftshift(slice_data, axes\u001b[38;5;241m=\u001b[39m[k_dim]),\n\u001b[0;32m   (...)\u001b[0m\n\u001b[1;32m    225\u001b[0m                     axes\u001b[38;5;241m=\u001b[39m[k_dim],\n\u001b[1;32m    226\u001b[0m                 )\n\u001b[1;32m    228\u001b[0m             DD_phase[:, :, i_slice, j_vol] \u001b[38;5;241m=\u001b[39m slice_data\n\u001b[0;32m--> 230\u001b[0m \u001b[38;5;28;01mraise\u001b[39;00m \u001b[38;5;167;01mException\u001b[39;00m(np\u001b[38;5;241m.\u001b[39munique(np\u001b[38;5;241m.\u001b[39mexp(\u001b[38;5;241m-\u001b[39m\u001b[38;5;241m1\u001b[39mj \u001b[38;5;241m*\u001b[39m np\u001b[38;5;241m.\u001b[39mangle(DD_phase))))\n\u001b[1;32m    232\u001b[0m \u001b[38;5;66;03m# Multiply the 4D array by the exponential of the angle of the filtered phase\u001b[39;00m\n\u001b[1;32m    233\u001b[0m KSP2 \u001b[38;5;241m=\u001b[39m KSP2 \u001b[38;5;241m*\u001b[39m np\u001b[38;5;241m.\u001b[39mexp(\u001b[38;5;241m-\u001b[39m\u001b[38;5;241m1\u001b[39mj \u001b[38;5;241m*\u001b[39m np\u001b[38;5;241m.\u001b[39mangle(DD_phase))\n",
      "\u001b[0;31mException\u001b[0m: [-1.-0.00024286j -1.-0.00024262j -1.-0.00024238j ...  1.+0.00024346j\n  1.+0.00024359j  1.+0.00024377j]"
     ]
    }
   ],
   "source": [
    "stem = \"/Users/taylor/Documents/datasets/nordic-test/sub-02_ses-1_task-fracback_acq-MBME_echo-1\" \n",
    "run_nordic(\n",
    "    mag_file=f\"{stem}_part-mag_bold.nii.gz\",\n",
    "    pha_file=f\"{stem}_part-phase_bold.nii.gz\",\n",
    "    mag_norf_file=f\"{stem}_part-mag_noRF.nii.gz\",\n",
    "    pha_norf_file=f\"{stem}_part-phase_noRF.nii.gz\",\n",
    "    out_dir=\".\",\n",
    "    phase_filter_width=10,\n",
    "    algorithm=\"nordic\",\n",
    ")"
   ]
  },
  {
   "cell_type": "code",
   "execution_count": 9,
   "id": "19452d84",
   "metadata": {},
   "outputs": [
    {
     "name": "stdout",
     "output_type": "stream",
     "text": [
      "[1.+0.j 0.+1.j 1.+1.j]\n",
      "[0.         1.57079633 0.78539816]\n",
      "[0.         1.57079633 0.78539816]\n",
      "[0.-0.j         0.-1.57079633j 0.-0.78539816j]\n",
      "[1.00000000e+00+0.j         6.12323400e-17-1.j\n",
      " 7.07106781e-01-0.70710678j]\n"
     ]
    }
   ],
   "source": [
    "import numpy as np\n",
    "\n",
    "comp_data = np.array([1.0, 1.0j, 1+1j])\n",
    "real = comp_data.real\n",
    "imag = comp_data.imag\n",
    "phase = np.arctan2(imag, real)\n",
    "print(comp_data)\n",
    "print(phase)\n",
    "print(np.angle(comp_data))\n",
    "print(-1j * phase)\n",
    "print(np.exp(-1j * phase))"
   ]
  },
  {
   "cell_type": "code",
   "execution_count": 10,
   "id": "3b0bef49",
   "metadata": {},
   "outputs": [
    {
     "data": {
      "text/plain": [
       "6.123234e-17"
      ]
     },
     "execution_count": 10,
     "metadata": {},
     "output_type": "execute_result"
    }
   ],
   "source": [
    "6.12323400e-17"
   ]
  },
  {
   "cell_type": "code",
   "execution_count": 11,
   "id": "f9000522",
   "metadata": {},
   "outputs": [
    {
     "data": {
      "text/plain": [
       "0.707106781"
      ]
     },
     "execution_count": 11,
     "metadata": {},
     "output_type": "execute_result"
    }
   ],
   "source": [
    "7.07106781e-01"
   ]
  },
  {
   "cell_type": "code",
   "execution_count": null,
   "id": "c58a7a96",
   "metadata": {},
   "outputs": [],
   "source": []
  }
 ],
 "metadata": {
  "kernelspec": {
   "display_name": "Python 3 (ipykernel)",
   "language": "python",
   "name": "python3"
  },
  "language_info": {
   "codemirror_mode": {
    "name": "ipython",
    "version": 3
   },
   "file_extension": ".py",
   "mimetype": "text/x-python",
   "name": "python",
   "nbconvert_exporter": "python",
   "pygments_lexer": "ipython3",
   "version": "3.9.17"
  }
 },
 "nbformat": 4,
 "nbformat_minor": 5
}
